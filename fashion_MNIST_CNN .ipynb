{
  "cells": [
    {
      "cell_type": "markdown",
      "metadata": {
        "id": "r-oJzbNxn7bj"
      },
      "source": [
        "# building cnn- convolutional neural network"
      ]
    },
    {
      "cell_type": "code",
      "execution_count": null,
      "metadata": {
        "id": "cyNfgJgToQqL"
      },
      "outputs": [],
      "source": [
        "import keras\n",
        "import pandas as pd\n",
        "import numpy as np\n",
        "import matplotlib.pyplot as plt\n",
        "import seaborn as sns"
      ]
    },
    {
      "cell_type": "code",
      "execution_count": null,
      "metadata": {
        "id": "aonA-bHEowTi"
      },
      "outputs": [],
      "source": [
        "from keras.datasets import fashion_mnist\n",
        "(x_train, y_train), (x_test, y_test) = fashion_mnist.load_data()"
      ]
    },
    {
      "cell_type": "markdown",
      "metadata": {
        "id": "dXrwoY2TqQFL"
      },
      "source": [
        "#0\tT-shirt/top\n",
        "#1\tTrouser\n",
        "#2\tPullover\n",
        "#3\tDress\n",
        "#4\tCoat\n",
        "#5\tSandal\n",
        "#6\tShirt\n",
        "#\tSneaker\n",
        "#8\tBag\n",
        "#9\tAnkle boot"
      ]
    },
    {
      "cell_type": "code",
      "execution_count": null,
      "metadata": {
        "id": "7DZ1JPzzp26k"
      },
      "outputs": [],
      "source": [
        "class_labels =[\"T-shirt/top\",\"Trouser\",\"Pullover\",\"Dress\",\"Coat\",\"Sandal\",\"Shirt\",\"Sneaker\",\"Bag\",\"Ankle boot\"]"
      ]
    },
    {
      "cell_type": "code",
      "execution_count": null,
      "metadata": {
        "colab": {
          "base_uri": "https://localhost:8080/"
        },
        "id": "MTeV9trtpEqS",
        "outputId": "8114dafc-cfb3-440e-918c-301d99d26204"
      },
      "outputs": [
        {
          "output_type": "execute_result",
          "data": {
            "text/plain": [
              "((60000, 28, 28), (60000,))"
            ]
          },
          "metadata": {},
          "execution_count": 23
        }
      ],
      "source": [
        "x_train.shape,y_train.shape"
      ]
    },
    {
      "cell_type": "code",
      "execution_count": null,
      "metadata": {
        "colab": {
          "base_uri": "https://localhost:8080/"
        },
        "id": "eIY4zDnopXHR",
        "outputId": "571438bc-54ea-4e9e-81a3-1da0ce749714"
      },
      "outputs": [
        {
          "output_type": "execute_result",
          "data": {
            "text/plain": [
              "((10000, 28, 28), (10000,))"
            ]
          },
          "metadata": {},
          "execution_count": 24
        }
      ],
      "source": [
        "x_test.shape,y_test.shape"
      ]
    },
    {
      "cell_type": "code",
      "execution_count": null,
      "metadata": {
        "colab": {
          "base_uri": "https://localhost:8080/"
        },
        "id": "NIHfJdWLpi2A",
        "outputId": "39e2d180-54df-4f5d-d508-42d48008c4ae"
      },
      "outputs": [
        {
          "output_type": "execute_result",
          "data": {
            "text/plain": [
              "array([[  0,   0,   0,   0,   0,   0,   0,   0,   0,   0,   0,   0,   0,\n",
              "          0,   0,   0,   0,   0,   0,   0,   0,   0,   0,   0,   0,   0,\n",
              "          0,   0],\n",
              "       [  0,   0,   0,   0,   0,   0,   0,   0,   0,   0,   0,   0,   0,\n",
              "          0,   0,   0,   0,   0,   0,   0,   0,   0,   0,   0,   0,   0,\n",
              "          0,   0],\n",
              "       [  0,   0,   0,   0,   0,   0,   0,   0,   0,   0,   0,   0,   0,\n",
              "          0,   0,   0,   0,   0,   0,   0,   0,   0,   0,   0,   0,   0,\n",
              "          0,   0],\n",
              "       [  0,   0,   0,   0,   0,   0,   0,   0,   0,   0,   0,   0,   1,\n",
              "          0,   0,  13,  73,   0,   0,   1,   4,   0,   0,   0,   0,   1,\n",
              "          1,   0],\n",
              "       [  0,   0,   0,   0,   0,   0,   0,   0,   0,   0,   0,   0,   3,\n",
              "          0,  36, 136, 127,  62,  54,   0,   0,   0,   1,   3,   4,   0,\n",
              "          0,   3],\n",
              "       [  0,   0,   0,   0,   0,   0,   0,   0,   0,   0,   0,   0,   6,\n",
              "          0, 102, 204, 176, 134, 144, 123,  23,   0,   0,   0,   0,  12,\n",
              "         10,   0],\n",
              "       [  0,   0,   0,   0,   0,   0,   0,   0,   0,   0,   0,   0,   0,\n",
              "          0, 155, 236, 207, 178, 107, 156, 161, 109,  64,  23,  77, 130,\n",
              "         72,  15],\n",
              "       [  0,   0,   0,   0,   0,   0,   0,   0,   0,   0,   0,   1,   0,\n",
              "         69, 207, 223, 218, 216, 216, 163, 127, 121, 122, 146, 141,  88,\n",
              "        172,  66],\n",
              "       [  0,   0,   0,   0,   0,   0,   0,   0,   0,   1,   1,   1,   0,\n",
              "        200, 232, 232, 233, 229, 223, 223, 215, 213, 164, 127, 123, 196,\n",
              "        229,   0],\n",
              "       [  0,   0,   0,   0,   0,   0,   0,   0,   0,   0,   0,   0,   0,\n",
              "        183, 225, 216, 223, 228, 235, 227, 224, 222, 224, 221, 223, 245,\n",
              "        173,   0],\n",
              "       [  0,   0,   0,   0,   0,   0,   0,   0,   0,   0,   0,   0,   0,\n",
              "        193, 228, 218, 213, 198, 180, 212, 210, 211, 213, 223, 220, 243,\n",
              "        202,   0],\n",
              "       [  0,   0,   0,   0,   0,   0,   0,   0,   0,   1,   3,   0,  12,\n",
              "        219, 220, 212, 218, 192, 169, 227, 208, 218, 224, 212, 226, 197,\n",
              "        209,  52],\n",
              "       [  0,   0,   0,   0,   0,   0,   0,   0,   0,   0,   6,   0,  99,\n",
              "        244, 222, 220, 218, 203, 198, 221, 215, 213, 222, 220, 245, 119,\n",
              "        167,  56],\n",
              "       [  0,   0,   0,   0,   0,   0,   0,   0,   0,   4,   0,   0,  55,\n",
              "        236, 228, 230, 228, 240, 232, 213, 218, 223, 234, 217, 217, 209,\n",
              "         92,   0],\n",
              "       [  0,   0,   1,   4,   6,   7,   2,   0,   0,   0,   0,   0, 237,\n",
              "        226, 217, 223, 222, 219, 222, 221, 216, 223, 229, 215, 218, 255,\n",
              "         77,   0],\n",
              "       [  0,   3,   0,   0,   0,   0,   0,   0,   0,  62, 145, 204, 228,\n",
              "        207, 213, 221, 218, 208, 211, 218, 224, 223, 219, 215, 224, 244,\n",
              "        159,   0],\n",
              "       [  0,   0,   0,   0,  18,  44,  82, 107, 189, 228, 220, 222, 217,\n",
              "        226, 200, 205, 211, 230, 224, 234, 176, 188, 250, 248, 233, 238,\n",
              "        215,   0],\n",
              "       [  0,  57, 187, 208, 224, 221, 224, 208, 204, 214, 208, 209, 200,\n",
              "        159, 245, 193, 206, 223, 255, 255, 221, 234, 221, 211, 220, 232,\n",
              "        246,   0],\n",
              "       [  3, 202, 228, 224, 221, 211, 211, 214, 205, 205, 205, 220, 240,\n",
              "         80, 150, 255, 229, 221, 188, 154, 191, 210, 204, 209, 222, 228,\n",
              "        225,   0],\n",
              "       [ 98, 233, 198, 210, 222, 229, 229, 234, 249, 220, 194, 215, 217,\n",
              "        241,  65,  73, 106, 117, 168, 219, 221, 215, 217, 223, 223, 224,\n",
              "        229,  29],\n",
              "       [ 75, 204, 212, 204, 193, 205, 211, 225, 216, 185, 197, 206, 198,\n",
              "        213, 240, 195, 227, 245, 239, 223, 218, 212, 209, 222, 220, 221,\n",
              "        230,  67],\n",
              "       [ 48, 203, 183, 194, 213, 197, 185, 190, 194, 192, 202, 214, 219,\n",
              "        221, 220, 236, 225, 216, 199, 206, 186, 181, 177, 172, 181, 205,\n",
              "        206, 115],\n",
              "       [  0, 122, 219, 193, 179, 171, 183, 196, 204, 210, 213, 207, 211,\n",
              "        210, 200, 196, 194, 191, 195, 191, 198, 192, 176, 156, 167, 177,\n",
              "        210,  92],\n",
              "       [  0,   0,  74, 189, 212, 191, 175, 172, 175, 181, 185, 188, 189,\n",
              "        188, 193, 198, 204, 209, 210, 210, 211, 188, 188, 194, 192, 216,\n",
              "        170,   0],\n",
              "       [  2,   0,   0,   0,  66, 200, 222, 237, 239, 242, 246, 243, 244,\n",
              "        221, 220, 193, 191, 179, 182, 182, 181, 176, 166, 168,  99,  58,\n",
              "          0,   0],\n",
              "       [  0,   0,   0,   0,   0,   0,   0,  40,  61,  44,  72,  41,  35,\n",
              "          0,   0,   0,   0,   0,   0,   0,   0,   0,   0,   0,   0,   0,\n",
              "          0,   0],\n",
              "       [  0,   0,   0,   0,   0,   0,   0,   0,   0,   0,   0,   0,   0,\n",
              "          0,   0,   0,   0,   0,   0,   0,   0,   0,   0,   0,   0,   0,\n",
              "          0,   0],\n",
              "       [  0,   0,   0,   0,   0,   0,   0,   0,   0,   0,   0,   0,   0,\n",
              "          0,   0,   0,   0,   0,   0,   0,   0,   0,   0,   0,   0,   0,\n",
              "          0,   0]], dtype=uint8)"
            ]
          },
          "metadata": {},
          "execution_count": 26
        }
      ],
      "source": [
        "x_train[0]"
      ]
    },
    {
      "cell_type": "code",
      "execution_count": null,
      "metadata": {
        "colab": {
          "base_uri": "https://localhost:8080/"
        },
        "id": "P1oIfsHtpu3B",
        "outputId": "414e283e-9d81-441a-d825-65c7434979a1"
      },
      "outputs": [
        {
          "output_type": "execute_result",
          "data": {
            "text/plain": [
              "9"
            ]
          },
          "metadata": {},
          "execution_count": 27
        }
      ],
      "source": [
        "y_train[0]"
      ]
    },
    {
      "cell_type": "code",
      "execution_count": null,
      "metadata": {
        "colab": {
          "base_uri": "https://localhost:8080/",
          "height": 447
        },
        "id": "WPGC0HfBpyyR",
        "outputId": "7669c6f7-4215-458c-d7b0-3e2fe46f6771"
      },
      "outputs": [
        {
          "output_type": "execute_result",
          "data": {
            "text/plain": [
              "<matplotlib.image.AxesImage at 0x7fcf42859c10>"
            ]
          },
          "metadata": {},
          "execution_count": 28
        },
        {
          "output_type": "display_data",
          "data": {
            "text/plain": [
              "<Figure size 640x480 with 1 Axes>"
            ],
            "image/png": "[encoded data removed]"
          },
          "metadata": {}
        }
      ],
      "source": [
        "plt.imshow(x_train[0],cmap=\"Greys\")"
      ]
    },
    {
      "cell_type": "code",
      "execution_count": null,
      "metadata": {
        "colab": {
          "base_uri": "https://localhost:8080/",
          "height": 1000
        },
        "id": "03Drvml3tZvy",
        "outputId": "f37e6bd1-4724-4021-c2c8-79f39e4d962d"
      },
      "outputs": [
        {
          "output_type": "display_data",
          "data": {
            "text/plain": [
              "<Figure size 640x480 with 1 Axes>"
            ],
            "image/png": "[encoded data removed]"
          },
          "metadata": {}
        },
        {
          "output_type": "display_data",
          "data": {
            "text/plain": [
              "<Figure size 1600x1600 with 25 Axes>"
            ],
            "image/png": "[encoded data removed]"
          },
          "metadata": {}
        }
      ],
      "source": [
        "plt.imshow(x_train[0], cmap='Greys')\n",
        "\n",
        "plt.figure(figsize=(16,16))\n",
        "\n",
        "j=1\n",
        "for i in np.random.randint(0, 1000, 25):\n",
        "  plt.subplot(5,5,j); j+=1\n",
        "  plt.imshow(x_train[i], cmap=\"Greys\")\n",
        "  plt.axis('off') # off the axis\n",
        "  plt.title('{} / {}'.format(class_labels[y_train[i]], y_train[i]))"
      ]
    },
    {
      "cell_type": "markdown",
      "source": [
        "#change dimention"
      ],
      "metadata": {
        "id": "WBxpVAhk4a65"
      }
    },
    {
      "cell_type": "code",
      "execution_count": null,
      "metadata": {
        "id": "-3584w2DubMw",
        "colab": {
          "base_uri": "https://localhost:8080/"
        },
        "outputId": "b34b1b45-3934-4070-d71b-43226de9e652"
      },
      "outputs": [
        {
          "output_type": "execute_result",
          "data": {
            "text/plain": [
              "3"
            ]
          },
          "metadata": {},
          "execution_count": 30
        }
      ],
      "source": [
        "x_train.ndim"
      ]
    },
    {
      "cell_type": "code",
      "source": [
        "x_train.shape#niche apel value joi ne lage k e 3 dimentional che"
      ],
      "metadata": {
        "colab": {
          "base_uri": "https://localhost:8080/"
        },
        "id": "TMmdvBb-52TS",
        "outputId": "0f89b93c-af46-4c93-8f35-ce0b209f0d67"
      },
      "execution_count": null,
      "outputs": [
        {
          "output_type": "execute_result",
          "data": {
            "text/plain": [
              "(60000, 28, 28)"
            ]
          },
          "metadata": {},
          "execution_count": 32
        }
      ]
    },
    {
      "cell_type": "code",
      "source": [
        "x_train=np.expand_dims(x_train,-1)\n",
        "x_test=np.expand_dims(x_train,-1)   #3 dimention ma che tene 4 ma convert krva mate"
      ],
      "metadata": {
        "id": "BQnufu-y4izN"
      },
      "execution_count": null,
      "outputs": []
    },
    {
      "cell_type": "code",
      "source": [
        "x_train.shape\n",
        "#x_train.ndim"
      ],
      "metadata": {
        "colab": {
          "base_uri": "https://localhost:8080/"
        },
        "id": "Y9m1vCDq6Ecr",
        "outputId": "baebf2b3-dddc-4e00-b084-b0586d1b7ac7"
      },
      "execution_count": null,
      "outputs": [
        {
          "output_type": "execute_result",
          "data": {
            "text/plain": [
              "(60000, 28, 28, 1)"
            ]
          },
          "metadata": {},
          "execution_count": 35
        }
      ]
    },
    {
      "cell_type": "code",
      "source": [],
      "metadata": {
        "id": "gRLBFJNz6J9G"
      },
      "execution_count": null,
      "outputs": []
    },
    {
      "cell_type": "markdown",
      "source": [
        "#feature scalling"
      ],
      "metadata": {
        "id": "SjbHNn7U6W35"
      }
    },
    {
      "cell_type": "code",
      "source": [
        "x_train=x_train/255\n",
        "x_test=x_test/255"
      ],
      "metadata": {
        "id": "AfiHqnH26aNh"
      },
      "execution_count": null,
      "outputs": []
    },
    {
      "cell_type": "code",
      "source": [
        "x_train[1]"
      ],
      "metadata": {
        "colab": {
          "base_uri": "https://localhost:8080/"
        },
        "id": "GjauALez6nqO",
        "outputId": "da4d0671-e5ee-4cf5-c8c5-8c30fafbfd8b"
      },
      "execution_count": null,
      "outputs": [
        {
          "output_type": "execute_result",
          "data": {
            "text/plain": [
              "array([[[0.        ],\n",
              "        [0.        ],\n",
              "        [0.        ],\n",
              "        [0.        ],\n",
              "        [0.        ],\n",
              "        [0.00392157],\n",
              "        [0.        ],\n",
              "        [0.        ],\n",
              "        [0.        ],\n",
              "        [0.        ],\n",
              "        [0.16078431],\n",
              "        [0.7372549 ],\n",
              "        [0.40392157],\n",
              "        [0.21176471],\n",
              "        [0.18823529],\n",
              "        [0.16862745],\n",
              "        [0.34117647],\n",
              "        [0.65882353],\n",
              "        [0.52156863],\n",
              "        [0.0627451 ],\n",
              "        [0.        ],\n",
              "        [0.        ],\n",
              "        [0.        ],\n",
              "        [0.        ],\n",
              "        [0.        ],\n",
              "        [0.        ],\n",
              "        [0.        ],\n",
              "        [0.        ]],\n",
              "\n",
              "       [[0.        ],\n",
              "        [0.        ],\n",
              "        [0.        ],\n",
              "        [0.00392157],\n",
              "        [0.        ],\n",
              "        [0.        ],\n",
              "        [0.        ],\n",
              "        [0.19215686],\n",
              "        [0.53333333],\n",
              "        [0.85882353],\n",
              "        [0.84705882],\n",
              "        [0.89411765],\n",
              "        [0.9254902 ],\n",
              "        [1.        ],\n",
              "        [1.        ],\n",
              "        [1.        ],\n",
              "        [1.        ],\n",
              "        [0.85098039],\n",
              "        [0.84313725],\n",
              "        [0.99607843],\n",
              "        [0.90588235],\n",
              "        [0.62745098],\n",
              "        [0.17647059],\n",
              "        [0.        ],\n",
              "        [0.        ],\n",
              "        [0.        ],\n",
              "        [0.        ],\n",
              "        [0.        ]],\n",
              "\n",
              "       [[0.        ],\n",
              "        [0.        ],\n",
              "        [0.        ],\n",
              "        [0.        ],\n",
              "        [0.        ],\n",
              "        [0.05490196],\n",
              "        [0.69019608],\n",
              "        [0.87058824],\n",
              "        [0.87843137],\n",
              "        [0.83137255],\n",
              "        [0.79607843],\n",
              "        [0.77647059],\n",
              "        [0.76862745],\n",
              "        [0.78431373],\n",
              "        [0.84313725],\n",
              "        [0.8       ],\n",
              "        [0.79215686],\n",
              "        [0.78823529],\n",
              "        [0.78823529],\n",
              "        [0.78823529],\n",
              "        [0.81960784],\n",
              "        [0.85490196],\n",
              "        [0.87843137],\n",
              "        [0.64313725],\n",
              "        [0.        ],\n",
              "        [0.        ],\n",
              "        [0.        ],\n",
              "        [0.        ]],\n",
              "\n",
              "       [[0.        ],\n",
              "        [0.        ],\n",
              "        [0.        ],\n",
              "        [0.        ],\n",
              "        [0.        ],\n",
              "        [0.7372549 ],\n",
              "        [0.85882353],\n",
              "        [0.78431373],\n",
              "        [0.77647059],\n",
              "        [0.79215686],\n",
              "        [0.77647059],\n",
              "        [0.78039216],\n",
              "        [0.78039216],\n",
              "        [0.78823529],\n",
              "        [0.76862745],\n",
              "        [0.77647059],\n",
              "        [0.77647059],\n",
              "        [0.78431373],\n",
              "        [0.78431373],\n",
              "        [0.78431373],\n",
              "        [0.78431373],\n",
              "        [0.78823529],\n",
              "        [0.78431373],\n",
              "        [0.88235294],\n",
              "        [0.16078431],\n",
              "        [0.        ],\n",
              "        [0.        ],\n",
              "        [0.        ]],\n",
              "\n",
              "       [[0.        ],\n",
              "        [0.        ],\n",
              "        [0.        ],\n",
              "        [0.        ],\n",
              "        [0.2       ],\n",
              "        [0.85882353],\n",
              "        [0.78039216],\n",
              "        [0.79607843],\n",
              "        [0.79607843],\n",
              "        [0.83137255],\n",
              "        [0.93333333],\n",
              "        [0.97254902],\n",
              "        [0.98039216],\n",
              "        [0.96078431],\n",
              "        [0.97647059],\n",
              "        [0.96470588],\n",
              "        [0.96862745],\n",
              "        [0.98823529],\n",
              "        [0.97254902],\n",
              "        [0.92156863],\n",
              "        [0.81176471],\n",
              "        [0.79607843],\n",
              "        [0.79607843],\n",
              "        [0.87058824],\n",
              "        [0.54901961],\n",
              "        [0.        ],\n",
              "        [0.        ],\n",
              "        [0.        ]],\n",
              "\n",
              "       [[0.        ],\n",
              "        [0.        ],\n",
              "        [0.        ],\n",
              "        [0.        ],\n",
              "        [0.45490196],\n",
              "        [0.88627451],\n",
              "        [0.80784314],\n",
              "        [0.8       ],\n",
              "        [0.81176471],\n",
              "        [0.8       ],\n",
              "        [0.39607843],\n",
              "        [0.29411765],\n",
              "        [0.18431373],\n",
              "        [0.28627451],\n",
              "        [0.18823529],\n",
              "        [0.19607843],\n",
              "        [0.17647059],\n",
              "        [0.2       ],\n",
              "        [0.24705882],\n",
              "        [0.44313725],\n",
              "        [0.87058824],\n",
              "        [0.79215686],\n",
              "        [0.80784314],\n",
              "        [0.8627451 ],\n",
              "        [0.87843137],\n",
              "        [0.        ],\n",
              "        [0.        ],\n",
              "        [0.        ]],\n",
              "\n",
              "       [[0.        ],\n",
              "        [0.        ],\n",
              "        [0.        ],\n",
              "        [0.        ],\n",
              "        [0.78431373],\n",
              "        [0.87058824],\n",
              "        [0.81960784],\n",
              "        [0.79607843],\n",
              "        [0.84313725],\n",
              "        [0.78431373],\n",
              "        [0.        ],\n",
              "        [0.2745098 ],\n",
              "        [0.38431373],\n",
              "        [0.        ],\n",
              "        [0.40392157],\n",
              "        [0.23137255],\n",
              "        [0.26666667],\n",
              "        [0.27843137],\n",
              "        [0.19215686],\n",
              "        [0.        ],\n",
              "        [0.85882353],\n",
              "        [0.80784314],\n",
              "        [0.83921569],\n",
              "        [0.82352941],\n",
              "        [0.98039216],\n",
              "        [0.14901961],\n",
              "        [0.        ],\n",
              "        [0.        ]],\n",
              "\n",
              "       [[0.        ],\n",
              "        [0.        ],\n",
              "        [0.        ],\n",
              "        [0.        ],\n",
              "        [0.96862745],\n",
              "        [0.85490196],\n",
              "        [0.83137255],\n",
              "        [0.82352941],\n",
              "        [0.84313725],\n",
              "        [0.83921569],\n",
              "        [0.        ],\n",
              "        [0.99607843],\n",
              "        [0.95294118],\n",
              "        [0.54509804],\n",
              "        [1.        ],\n",
              "        [0.68235294],\n",
              "        [0.98431373],\n",
              "        [1.        ],\n",
              "        [0.80392157],\n",
              "        [0.        ],\n",
              "        [0.84313725],\n",
              "        [0.85098039],\n",
              "        [0.83921569],\n",
              "        [0.81568627],\n",
              "        [0.8627451 ],\n",
              "        [0.37254902],\n",
              "        [0.        ],\n",
              "        [0.        ]],\n",
              "\n",
              "       [[0.        ],\n",
              "        [0.        ],\n",
              "        [0.        ],\n",
              "        [0.17647059],\n",
              "        [0.88627451],\n",
              "        [0.83921569],\n",
              "        [0.83921569],\n",
              "        [0.84313725],\n",
              "        [0.87843137],\n",
              "        [0.80392157],\n",
              "        [0.        ],\n",
              "        [0.16470588],\n",
              "        [0.1372549 ],\n",
              "        [0.23529412],\n",
              "        [0.0627451 ],\n",
              "        [0.06666667],\n",
              "        [0.04705882],\n",
              "        [0.05098039],\n",
              "        [0.2745098 ],\n",
              "        [0.        ],\n",
              "        [0.74117647],\n",
              "        [0.84705882],\n",
              "        [0.83137255],\n",
              "        [0.80784314],\n",
              "        [0.83137255],\n",
              "        [0.61176471],\n",
              "        [0.        ],\n",
              "        [0.        ]],\n",
              "\n",
              "       [[0.        ],\n",
              "        [0.        ],\n",
              "        [0.        ],\n",
              "        [0.64313725],\n",
              "        [0.92156863],\n",
              "        [0.83921569],\n",
              "        [0.82745098],\n",
              "        [0.8627451 ],\n",
              "        [0.84705882],\n",
              "        [0.78823529],\n",
              "        [0.20392157],\n",
              "        [0.27843137],\n",
              "        [0.34901961],\n",
              "        [0.36862745],\n",
              "        [0.3254902 ],\n",
              "        [0.30588235],\n",
              "        [0.2745098 ],\n",
              "        [0.29803922],\n",
              "        [0.36078431],\n",
              "        [0.34117647],\n",
              "        [0.80784314],\n",
              "        [0.81176471],\n",
              "        [0.87058824],\n",
              "        [0.83529412],\n",
              "        [0.85882353],\n",
              "        [0.81568627],\n",
              "        [0.        ],\n",
              "        [0.        ]],\n",
              "\n",
              "       [[0.        ],\n",
              "        [0.        ],\n",
              "        [0.        ],\n",
              "        [0.41568627],\n",
              "        [0.73333333],\n",
              "        [0.8745098 ],\n",
              "        [0.92941176],\n",
              "        [0.97254902],\n",
              "        [0.82745098],\n",
              "        [0.77647059],\n",
              "        [0.98823529],\n",
              "        [0.98039216],\n",
              "        [0.97254902],\n",
              "        [0.96078431],\n",
              "        [0.97254902],\n",
              "        [0.98823529],\n",
              "        [0.99215686],\n",
              "        [0.98039216],\n",
              "        [0.98823529],\n",
              "        [0.9372549 ],\n",
              "        [0.78823529],\n",
              "        [0.83137255],\n",
              "        [0.88235294],\n",
              "        [0.84313725],\n",
              "        [0.75686275],\n",
              "        [0.44313725],\n",
              "        [0.        ],\n",
              "        [0.        ]],\n",
              "\n",
              "       [[0.        ],\n",
              "        [0.        ],\n",
              "        [0.        ],\n",
              "        [0.        ],\n",
              "        [0.        ],\n",
              "        [0.06666667],\n",
              "        [0.21176471],\n",
              "        [0.62352941],\n",
              "        [0.87058824],\n",
              "        [0.75686275],\n",
              "        [0.81568627],\n",
              "        [0.75294118],\n",
              "        [0.77254902],\n",
              "        [0.78431373],\n",
              "        [0.78431373],\n",
              "        [0.78431373],\n",
              "        [0.78431373],\n",
              "        [0.78823529],\n",
              "        [0.79607843],\n",
              "        [0.76470588],\n",
              "        [0.82352941],\n",
              "        [0.64705882],\n",
              "        [0.        ],\n",
              "        [0.        ],\n",
              "        [0.        ],\n",
              "        [0.        ],\n",
              "        [0.        ],\n",
              "        [0.        ]],\n",
              "\n",
              "       [[0.        ],\n",
              "        [0.        ],\n",
              "        [0.        ],\n",
              "        [0.        ],\n",
              "        [0.        ],\n",
              "        [0.        ],\n",
              "        [0.        ],\n",
              "        [0.18431373],\n",
              "        [0.88235294],\n",
              "        [0.75294118],\n",
              "        [0.83921569],\n",
              "        [0.79607843],\n",
              "        [0.80784314],\n",
              "        [0.8       ],\n",
              "        [0.8       ],\n",
              "        [0.80392157],\n",
              "        [0.80784314],\n",
              "        [0.8       ],\n",
              "        [0.83137255],\n",
              "        [0.77254902],\n",
              "        [0.85490196],\n",
              "        [0.41960784],\n",
              "        [0.        ],\n",
              "        [0.        ],\n",
              "        [0.        ],\n",
              "        [0.        ],\n",
              "        [0.        ],\n",
              "        [0.        ]],\n",
              "\n",
              "       [[0.        ],\n",
              "        [0.        ],\n",
              "        [0.        ],\n",
              "        [0.        ],\n",
              "        [0.00392157],\n",
              "        [0.02352941],\n",
              "        [0.        ],\n",
              "        [0.18039216],\n",
              "        [0.83137255],\n",
              "        [0.76470588],\n",
              "        [0.83137255],\n",
              "        [0.79215686],\n",
              "        [0.80784314],\n",
              "        [0.80392157],\n",
              "        [0.8       ],\n",
              "        [0.80392157],\n",
              "        [0.80784314],\n",
              "        [0.8       ],\n",
              "        [0.83137255],\n",
              "        [0.78431373],\n",
              "        [0.85490196],\n",
              "        [0.35686275],\n",
              "        [0.        ],\n",
              "        [0.01176471],\n",
              "        [0.00392157],\n",
              "        [0.        ],\n",
              "        [0.        ],\n",
              "        [0.        ]],\n",
              "\n",
              "       [[0.        ],\n",
              "        [0.        ],\n",
              "        [0.        ],\n",
              "        [0.        ],\n",
              "        [0.        ],\n",
              "        [0.00392157],\n",
              "        [0.        ],\n",
              "        [0.04313725],\n",
              "        [0.77254902],\n",
              "        [0.78039216],\n",
              "        [0.80392157],\n",
              "        [0.79215686],\n",
              "        [0.80392157],\n",
              "        [0.80784314],\n",
              "        [0.8       ],\n",
              "        [0.80392157],\n",
              "        [0.81176471],\n",
              "        [0.8       ],\n",
              "        [0.80392157],\n",
              "        [0.80392157],\n",
              "        [0.85490196],\n",
              "        [0.30196078],\n",
              "        [0.        ],\n",
              "        [0.01960784],\n",
              "        [0.        ],\n",
              "        [0.        ],\n",
              "        [0.        ],\n",
              "        [0.        ]],\n",
              "\n",
              "       [[0.        ],\n",
              "        [0.        ],\n",
              "        [0.        ],\n",
              "        [0.        ],\n",
              "        [0.        ],\n",
              "        [0.01176471],\n",
              "        [0.        ],\n",
              "        [0.00784314],\n",
              "        [0.74901961],\n",
              "        [0.77647059],\n",
              "        [0.78823529],\n",
              "        [0.80392157],\n",
              "        [0.80784314],\n",
              "        [0.80392157],\n",
              "        [0.80392157],\n",
              "        [0.80784314],\n",
              "        [0.81960784],\n",
              "        [0.80784314],\n",
              "        [0.78039216],\n",
              "        [0.81960784],\n",
              "        [0.85882353],\n",
              "        [0.29019608],\n",
              "        [0.        ],\n",
              "        [0.01960784],\n",
              "        [0.        ],\n",
              "        [0.        ],\n",
              "        [0.        ],\n",
              "        [0.        ]],\n",
              "\n",
              "       [[0.        ],\n",
              "        [0.        ],\n",
              "        [0.        ],\n",
              "        [0.        ],\n",
              "        [0.        ],\n",
              "        [0.00784314],\n",
              "        [0.        ],\n",
              "        [0.        ],\n",
              "        [0.7372549 ],\n",
              "        [0.77254902],\n",
              "        [0.78431373],\n",
              "        [0.81176471],\n",
              "        [0.81176471],\n",
              "        [0.8       ],\n",
              "        [0.81176471],\n",
              "        [0.81176471],\n",
              "        [0.82352941],\n",
              "        [0.81568627],\n",
              "        [0.77647059],\n",
              "        [0.81176471],\n",
              "        [0.86666667],\n",
              "        [0.28235294],\n",
              "        [0.        ],\n",
              "        [0.01568627],\n",
              "        [0.        ],\n",
              "        [0.        ],\n",
              "        [0.        ],\n",
              "        [0.        ]],\n",
              "\n",
              "       [[0.        ],\n",
              "        [0.        ],\n",
              "        [0.        ],\n",
              "        [0.        ],\n",
              "        [0.        ],\n",
              "        [0.00784314],\n",
              "        [0.        ],\n",
              "        [0.        ],\n",
              "        [0.84313725],\n",
              "        [0.77647059],\n",
              "        [0.79607843],\n",
              "        [0.80784314],\n",
              "        [0.81568627],\n",
              "        [0.80392157],\n",
              "        [0.81176471],\n",
              "        [0.81176471],\n",
              "        [0.82352941],\n",
              "        [0.81568627],\n",
              "        [0.78431373],\n",
              "        [0.79215686],\n",
              "        [0.87058824],\n",
              "        [0.29411765],\n",
              "        [0.        ],\n",
              "        [0.01568627],\n",
              "        [0.        ],\n",
              "        [0.        ],\n",
              "        [0.        ],\n",
              "        [0.        ]],\n",
              "\n",
              "       [[0.        ],\n",
              "        [0.        ],\n",
              "        [0.        ],\n",
              "        [0.        ],\n",
              "        [0.        ],\n",
              "        [0.00392157],\n",
              "        [0.        ],\n",
              "        [0.        ],\n",
              "        [0.83137255],\n",
              "        [0.77647059],\n",
              "        [0.81960784],\n",
              "        [0.80784314],\n",
              "        [0.81960784],\n",
              "        [0.80784314],\n",
              "        [0.81568627],\n",
              "        [0.81176471],\n",
              "        [0.82745098],\n",
              "        [0.80784314],\n",
              "        [0.80392157],\n",
              "        [0.77647059],\n",
              "        [0.86666667],\n",
              "        [0.31372549],\n",
              "        [0.        ],\n",
              "        [0.01176471],\n",
              "        [0.        ],\n",
              "        [0.        ],\n",
              "        [0.        ],\n",
              "        [0.        ]],\n",
              "\n",
              "       [[0.        ],\n",
              "        [0.        ],\n",
              "        [0.        ],\n",
              "        [0.        ],\n",
              "        [0.        ],\n",
              "        [0.00392157],\n",
              "        [0.        ],\n",
              "        [0.        ],\n",
              "        [0.8       ],\n",
              "        [0.78823529],\n",
              "        [0.80392157],\n",
              "        [0.81568627],\n",
              "        [0.81176471],\n",
              "        [0.80392157],\n",
              "        [0.82745098],\n",
              "        [0.80392157],\n",
              "        [0.82352941],\n",
              "        [0.82352941],\n",
              "        [0.81960784],\n",
              "        [0.76470588],\n",
              "        [0.86666667],\n",
              "        [0.37647059],\n",
              "        [0.        ],\n",
              "        [0.01176471],\n",
              "        [0.        ],\n",
              "        [0.        ],\n",
              "        [0.        ],\n",
              "        [0.        ]],\n",
              "\n",
              "       [[0.        ],\n",
              "        [0.        ],\n",
              "        [0.        ],\n",
              "        [0.        ],\n",
              "        [0.        ],\n",
              "        [0.00392157],\n",
              "        [0.        ],\n",
              "        [0.        ],\n",
              "        [0.79215686],\n",
              "        [0.78823529],\n",
              "        [0.80392157],\n",
              "        [0.81960784],\n",
              "        [0.81176471],\n",
              "        [0.80392157],\n",
              "        [0.83529412],\n",
              "        [0.80784314],\n",
              "        [0.82352941],\n",
              "        [0.81960784],\n",
              "        [0.82352941],\n",
              "        [0.76078431],\n",
              "        [0.85098039],\n",
              "        [0.41176471],\n",
              "        [0.        ],\n",
              "        [0.00784314],\n",
              "        [0.        ],\n",
              "        [0.        ],\n",
              "        [0.        ],\n",
              "        [0.        ]],\n",
              "\n",
              "       [[0.        ],\n",
              "        [0.        ],\n",
              "        [0.        ],\n",
              "        [0.        ],\n",
              "        [0.        ],\n",
              "        [0.00392157],\n",
              "        [0.        ],\n",
              "        [0.        ],\n",
              "        [0.8       ],\n",
              "        [0.8       ],\n",
              "        [0.80392157],\n",
              "        [0.81568627],\n",
              "        [0.81176471],\n",
              "        [0.80392157],\n",
              "        [0.84313725],\n",
              "        [0.81176471],\n",
              "        [0.82352941],\n",
              "        [0.81568627],\n",
              "        [0.82745098],\n",
              "        [0.75686275],\n",
              "        [0.83529412],\n",
              "        [0.45098039],\n",
              "        [0.        ],\n",
              "        [0.00784314],\n",
              "        [0.        ],\n",
              "        [0.        ],\n",
              "        [0.        ],\n",
              "        [0.        ]],\n",
              "\n",
              "       [[0.        ],\n",
              "        [0.        ],\n",
              "        [0.        ],\n",
              "        [0.        ],\n",
              "        [0.        ],\n",
              "        [0.        ],\n",
              "        [0.        ],\n",
              "        [0.        ],\n",
              "        [0.8       ],\n",
              "        [0.81176471],\n",
              "        [0.81176471],\n",
              "        [0.81568627],\n",
              "        [0.80784314],\n",
              "        [0.80784314],\n",
              "        [0.84313725],\n",
              "        [0.82352941],\n",
              "        [0.82352941],\n",
              "        [0.81176471],\n",
              "        [0.83137255],\n",
              "        [0.76470588],\n",
              "        [0.82352941],\n",
              "        [0.4627451 ],\n",
              "        [0.        ],\n",
              "        [0.00784314],\n",
              "        [0.        ],\n",
              "        [0.        ],\n",
              "        [0.        ],\n",
              "        [0.        ]],\n",
              "\n",
              "       [[0.        ],\n",
              "        [0.        ],\n",
              "        [0.        ],\n",
              "        [0.        ],\n",
              "        [0.        ],\n",
              "        [0.00392157],\n",
              "        [0.        ],\n",
              "        [0.        ],\n",
              "        [0.77647059],\n",
              "        [0.81568627],\n",
              "        [0.81568627],\n",
              "        [0.81568627],\n",
              "        [0.8       ],\n",
              "        [0.81176471],\n",
              "        [0.83137255],\n",
              "        [0.83137255],\n",
              "        [0.82352941],\n",
              "        [0.81176471],\n",
              "        [0.82745098],\n",
              "        [0.76862745],\n",
              "        [0.81176471],\n",
              "        [0.4745098 ],\n",
              "        [0.        ],\n",
              "        [0.00392157],\n",
              "        [0.        ],\n",
              "        [0.        ],\n",
              "        [0.        ],\n",
              "        [0.        ]],\n",
              "\n",
              "       [[0.        ],\n",
              "        [0.        ],\n",
              "        [0.        ],\n",
              "        [0.        ],\n",
              "        [0.        ],\n",
              "        [0.00392157],\n",
              "        [0.        ],\n",
              "        [0.        ],\n",
              "        [0.77647059],\n",
              "        [0.82352941],\n",
              "        [0.81176471],\n",
              "        [0.81568627],\n",
              "        [0.80784314],\n",
              "        [0.81960784],\n",
              "        [0.83529412],\n",
              "        [0.83137255],\n",
              "        [0.82745098],\n",
              "        [0.81176471],\n",
              "        [0.82352941],\n",
              "        [0.77254902],\n",
              "        [0.81176471],\n",
              "        [0.48627451],\n",
              "        [0.        ],\n",
              "        [0.00392157],\n",
              "        [0.        ],\n",
              "        [0.        ],\n",
              "        [0.        ],\n",
              "        [0.        ]],\n",
              "\n",
              "       [[0.        ],\n",
              "        [0.        ],\n",
              "        [0.        ],\n",
              "        [0.        ],\n",
              "        [0.        ],\n",
              "        [0.        ],\n",
              "        [0.        ],\n",
              "        [0.        ],\n",
              "        [0.6745098 ],\n",
              "        [0.82352941],\n",
              "        [0.79607843],\n",
              "        [0.78823529],\n",
              "        [0.78039216],\n",
              "        [0.8       ],\n",
              "        [0.81176471],\n",
              "        [0.80392157],\n",
              "        [0.8       ],\n",
              "        [0.78823529],\n",
              "        [0.80392157],\n",
              "        [0.77254902],\n",
              "        [0.80784314],\n",
              "        [0.49803922],\n",
              "        [0.        ],\n",
              "        [0.        ],\n",
              "        [0.        ],\n",
              "        [0.        ],\n",
              "        [0.        ],\n",
              "        [0.        ]],\n",
              "\n",
              "       [[0.        ],\n",
              "        [0.        ],\n",
              "        [0.        ],\n",
              "        [0.        ],\n",
              "        [0.        ],\n",
              "        [0.        ],\n",
              "        [0.        ],\n",
              "        [0.        ],\n",
              "        [0.7372549 ],\n",
              "        [0.86666667],\n",
              "        [0.83921569],\n",
              "        [0.91764706],\n",
              "        [0.9254902 ],\n",
              "        [0.93333333],\n",
              "        [0.95686275],\n",
              "        [0.95686275],\n",
              "        [0.95686275],\n",
              "        [0.94117647],\n",
              "        [0.95294118],\n",
              "        [0.83921569],\n",
              "        [0.87843137],\n",
              "        [0.63529412],\n",
              "        [0.        ],\n",
              "        [0.00784314],\n",
              "        [0.        ],\n",
              "        [0.        ],\n",
              "        [0.        ],\n",
              "        [0.        ]],\n",
              "\n",
              "       [[0.        ],\n",
              "        [0.        ],\n",
              "        [0.        ],\n",
              "        [0.        ],\n",
              "        [0.        ],\n",
              "        [0.00392157],\n",
              "        [0.        ],\n",
              "        [0.        ],\n",
              "        [0.54509804],\n",
              "        [0.57254902],\n",
              "        [0.50980392],\n",
              "        [0.52941176],\n",
              "        [0.52941176],\n",
              "        [0.5372549 ],\n",
              "        [0.49019608],\n",
              "        [0.48627451],\n",
              "        [0.49019608],\n",
              "        [0.4745098 ],\n",
              "        [0.46666667],\n",
              "        [0.44705882],\n",
              "        [0.50980392],\n",
              "        [0.29803922],\n",
              "        [0.        ],\n",
              "        [0.        ],\n",
              "        [0.        ],\n",
              "        [0.        ],\n",
              "        [0.        ],\n",
              "        [0.        ]]])"
            ]
          },
          "metadata": {},
          "execution_count": 38
        }
      ]
    },
    {
      "cell_type": "markdown",
      "source": [
        "#validation data set(split data set from train data)"
      ],
      "metadata": {
        "id": "ufylWHd77LTZ"
      }
    },
    {
      "cell_type": "code",
      "source": [
        "from sklearn.model_selection import train_test_split\n",
        "x_train,x_val,y_train,y_val=train_test_split(x_train,y_train,test_size=0.2,random_state=2020)"
      ],
      "metadata": {
        "id": "Jg-UWe9Y6sQw"
      },
      "execution_count": null,
      "outputs": []
    },
    {
      "cell_type": "code",
      "source": [
        "x_val.shape"
      ],
      "metadata": {
        "colab": {
          "base_uri": "https://localhost:8080/"
        },
        "id": "CGwtPuR08HdH",
        "outputId": "dbd016fd-8162-4b17-bd0f-14b3b68cfebb"
      },
      "execution_count": null,
      "outputs": [
        {
          "output_type": "execute_result",
          "data": {
            "text/plain": [
              "(12000, 28, 28, 1)"
            ]
          },
          "metadata": {},
          "execution_count": 40
        }
      ]
    },
    {
      "cell_type": "code",
      "source": [
        "y_val.shape"
      ],
      "metadata": {
        "colab": {
          "base_uri": "https://localhost:8080/"
        },
        "id": "7mL-JDRF8Mww",
        "outputId": "186e3da3-e183-41b2-e565-d8a6d782ca3e"
      },
      "execution_count": null,
      "outputs": [
        {
          "output_type": "execute_result",
          "data": {
            "text/plain": [
              "(12000,)"
            ]
          },
          "metadata": {},
          "execution_count": 41
        }
      ]
    },
    {
      "cell_type": "code",
      "source": [
        "x_train.shape"
      ],
      "metadata": {
        "colab": {
          "base_uri": "https://localhost:8080/"
        },
        "id": "M7CKW-T28RRv",
        "outputId": "28c8b0b6-8195-47f0-875b-3e3507f9a381"
      },
      "execution_count": null,
      "outputs": [
        {
          "output_type": "execute_result",
          "data": {
            "text/plain": [
              "(48000, 28, 28, 1)"
            ]
          },
          "metadata": {},
          "execution_count": 42
        }
      ]
    },
    {
      "cell_type": "markdown",
      "source": [
        "#convolutional neural network"
      ],
      "metadata": {
        "id": "C4vxjUZN8ic6"
      }
    },
    {
      "cell_type": "code",
      "source": [
        "model=keras.models.Sequential([\n",
        "                         keras.layers.Conv2D(filters=32,kernel_size=3,strides=(1,1),padding='valid',activation='relu',input_shape=[28,28,1]),#kernal size means ketlu matrix apvu che te,strides= staring ma ketli column reva devi te,padding =pachal ketli 00 valu column add krvi te [28,28 te shape che image no and pachl 1 che eno meanig evo k greys image che jo color vali image hoi to biji kaik value avse]\n",
        "                        keras.layers.MaxPooling2D(pool_size=(2,2)),\n",
        "                        keras.layers.Flatten(),\n",
        "                        keras.layers.Dense(units=128,activation='relu'),\n",
        "                        keras.layers.Dense(units=10,activation='softmax')\n",
        "])"
      ],
      "metadata": {
        "id": "AxSv2BgM8VW_"
      },
      "execution_count": null,
      "outputs": []
    },
    {
      "cell_type": "code",
      "source": [
        "model.summary"
      ],
      "metadata": {
        "id": "r5_DLBpmBVxW"
      },
      "execution_count": null,
      "outputs": []
    },
    {
      "cell_type": "code",
      "source": [],
      "metadata": {
        "id": "e-zTelCHBZMM"
      },
      "execution_count": null,
      "outputs": []
    }
  ],
  "metadata": {
    "colab": {
      "provenance": [],
      "toc_visible": true
    },
    "kernelspec": {
      "display_name": "Python 3",
      "name": "python3"
    },
    "language_info": {
      "name": "python"
    }
  },
  "nbformat": 4,
  "nbformat_minor": 0
}